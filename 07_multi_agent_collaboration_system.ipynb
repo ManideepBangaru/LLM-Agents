{
 "cells": [
  {
   "cell_type": "markdown",
   "metadata": {},
   "source": [
    "# History and Data Analysis Collaboration System\n",
    "\n",
    "## Overview\n",
    "This notebook implements a multi-agent collaboration system that combines historical research with data analysis to answer complex historical questions. It leverages the power of large language models to simulate specialized agents working together to provide comprehensive answers.\n",
    "\n",
    "## Motivation\n",
    "Historical analysis often requires both deep contextual understanding and quantitative data interpretation. By creating a system that combines these two aspects, we aim to provide more robust and insightful answers to complex historical questions. This approach mimics real-world collaboration between historians and data analysts, potentially leading to more nuanced and data-driven historical insights.\n",
    "\n",
    "## Key Components\n",
    "1. **Agent Class**: A base class for creating specialized AI agents.\n",
    "2. **HistoryResearchAgent**: Specialized in historical context and trends.\n",
    "3. **DataAnalysisAgent**: Focused on interpreting numerical data and statistics.\n",
    "4. **HistoryDataCollaborationSystem**: Orchestrates the collaboration between agents.\n",
    "\n",
    "## Method Details\n",
    "The collaboration system follows these steps:\n",
    "1. **Historical Context**: The History Agent provides relevant historical background.\n",
    "2. **Data Needs Identification**: The Data Agent determines what quantitative information is needed.\n",
    "3. **Historical Data Provision**: The History Agent supplies relevant historical data.\n",
    "4. **Data Analysis**: The Data Agent interprets the provided historical data.\n",
    "5. **Final Synthesis**: The History Agent combines all insights into a comprehensive answer.\n",
    "\n",
    "This iterative process allows for a back-and-forth between historical context and data analysis, mimicking real-world collaborative research.\n",
    "\n",
    "## Conclusion\n",
    "The History and Data Analysis Collaboration System demonstrates the potential of multi-agent AI systems in tackling complex, interdisciplinary questions. By combining the strengths of historical research and data analysis, it offers a novel approach to understanding historical trends and events. This system could be valuable for researchers, educators, and anyone interested in gaining deeper insights into historical topics.\n",
    "\n",
    "Future improvements could include adding more specialized agents, incorporating external data sources, and refining the collaboration process for even more nuanced analyses."
   ]
  },
  {
   "cell_type": "markdown",
   "metadata": {},
   "source": [
    "### Import required libraries"
   ]
  },
  {
   "cell_type": "code",
   "execution_count": 12,
   "metadata": {},
   "outputs": [],
   "source": [
    "import time\n",
    "from langchain_openai import ChatOpenAI\n",
    "from langchain_core.prompts import ChatPromptTemplate\n",
    "from langchain.schema import HumanMessage, SystemMessage, AIMessage\n",
    "from typing import List, Dict"
   ]
  },
  {
   "cell_type": "markdown",
   "metadata": {},
   "source": [
    "### Initialize the language model"
   ]
  },
  {
   "cell_type": "code",
   "execution_count": 2,
   "metadata": {},
   "outputs": [],
   "source": [
    "llm = ChatOpenAI(model=\"gpt-4o-mini\", max_tokens=1000, temperature=0.7)"
   ]
  },
  {
   "cell_type": "markdown",
   "metadata": {},
   "source": [
    "### Define the base Agent class"
   ]
  },
  {
   "cell_type": "code",
   "execution_count": 3,
   "metadata": {},
   "outputs": [],
   "source": [
    "class Agent:\n",
    "    def __init__(self, name: str, role: str, skills: List[str]):\n",
    "        self.name = name\n",
    "        self.role = role\n",
    "        self.skills = skills\n",
    "        self.llm = llm\n",
    "\n",
    "    def process(self, task: str, context: List[Dict] = None) -> str:\n",
    "        messages = [\n",
    "            SystemMessage(content=f\"You are {self.name}, a {self.role}. Your skills include: {', '.join(self.skills)}. Respond to the task based on your role and skills.\")\n",
    "        ]\n",
    "\n",
    "        # messages = []\n",
    "\n",
    "        # template = \"\"\"\n",
    "        # You are {self.name}, a {self.role}. Your skills include: {', '.join(self.skills)}. Respond to the task based on your role and skills.\n",
    "        # \"\"\"\n",
    "        \n",
    "        if context:\n",
    "            for msg in context:\n",
    "                if msg['role'] == 'human':\n",
    "                    messages.append(HumanMessage(content=msg['content']))\n",
    "                elif msg['role'] == 'ai':\n",
    "                    messages.append(AIMessage(content=msg['content']))\n",
    "        \n",
    "        messages.append(HumanMessage(content=task))\n",
    "        response = self.llm.invoke(messages)\n",
    "        return response.content"
   ]
  },
  {
   "cell_type": "markdown",
   "metadata": {},
   "source": [
    "### Define specialized agents: HistoryResearchAgent and DataAnalysisAgent"
   ]
  },
  {
   "cell_type": "code",
   "execution_count": 4,
   "metadata": {},
   "outputs": [],
   "source": [
    "class HistoryResearchAgent(Agent):\n",
    "    def __init__(self):\n",
    "        super().__init__(\"Clio\", \"History Research Specialist\", [\"deep knowledge of historical events\", \"understanding of historical contexts\", \"identifying historical trends\"])\n",
    "\n",
    "class DataAnalysisAgent(Agent):\n",
    "    def __init__(self):\n",
    "        super().__init__(\"Data\", \"Data Analysis Expert\", [\"interpreting numerical data\", \"statistical analysis\", \"data visualization description\"])"
   ]
  },
  {
   "cell_type": "markdown",
   "metadata": {},
   "source": [
    "### Define the different functions for the collaboration system"
   ]
  },
  {
   "cell_type": "markdown",
   "metadata": {},
   "source": [
    "#### Research Historical Context"
   ]
  },
  {
   "cell_type": "code",
   "execution_count": 5,
   "metadata": {},
   "outputs": [],
   "source": [
    "def research_historical_context(history_agent, task: str, context: list) -> list:\n",
    "    print(\"🏛️ History Agent: Researching historical context...\")\n",
    "    history_task = f\"Provide relevant historical context and information for the following task: {task}\"\n",
    "    history_result = history_agent.process(history_task)\n",
    "    context.append({\"role\": \"ai\", \"content\": f\"History Agent: {history_result}\"})\n",
    "    print(f\"📜 Historical context provided: {history_result[:100]}...\\n\")\n",
    "    return context"
   ]
  },
  {
   "cell_type": "markdown",
   "metadata": {},
   "source": [
    "#### Identify Data Needs"
   ]
  },
  {
   "cell_type": "code",
   "execution_count": 6,
   "metadata": {},
   "outputs": [],
   "source": [
    "def identify_data_needs(data_agent, task: str, context: list) -> list:\n",
    "    print(\"📊 Data Agent: Identifying data needs based on historical context...\")\n",
    "    historical_context = context[-1][\"content\"]\n",
    "    data_need_task = f\"Based on the historical context, what specific data or statistical information would be helpful to answer the original question? Historical context: {historical_context}\"\n",
    "    data_need_result = data_agent.process(data_need_task, context)\n",
    "    context.append({\"role\": \"ai\", \"content\": f\"Data Agent: {data_need_result}\"})\n",
    "    print(f\"🔍 Data needs identified: {data_need_result[:100]}...\\n\")\n",
    "    return context"
   ]
  },
  {
   "cell_type": "markdown",
   "metadata": {},
   "source": [
    "#### Provide Historical Data"
   ]
  },
  {
   "cell_type": "code",
   "execution_count": 7,
   "metadata": {},
   "outputs": [],
   "source": [
    "def provide_historical_data(history_agent, task: str, context: list) -> list:\n",
    "    print(\"🏛️ History Agent: Providing relevant historical data...\")\n",
    "    data_needs = context[-1][\"content\"]\n",
    "    data_provision_task = f\"Based on the data needs identified, provide relevant historical data or statistics. Data needs: {data_needs}\"\n",
    "    data_provision_result = history_agent.process(data_provision_task, context)\n",
    "    context.append({\"role\": \"ai\", \"content\": f\"History Agent: {data_provision_result}\"})\n",
    "    print(f\"📊 Historical data provided: {data_provision_result[:100]}...\\n\")\n",
    "    return context"
   ]
  },
  {
   "cell_type": "markdown",
   "metadata": {},
   "source": [
    "#### Analyze Data"
   ]
  },
  {
   "cell_type": "code",
   "execution_count": 8,
   "metadata": {},
   "outputs": [],
   "source": [
    "def analyze_data(data_agent, task: str, context: list) -> list:\n",
    "    print(\"📈 Data Agent: Analyzing historical data...\")\n",
    "    historical_data = context[-1][\"content\"]\n",
    "    analysis_task = f\"Analyze the historical data provided and describe any trends or insights relevant to the original task. Historical data: {historical_data}\"\n",
    "    analysis_result = data_agent.process(analysis_task, context)\n",
    "    context.append({\"role\": \"ai\", \"content\": f\"Data Agent: {analysis_result}\"})\n",
    "    print(f\"💡 Data analysis results: {analysis_result[:100]}...\\n\")\n",
    "    return context"
   ]
  },
  {
   "cell_type": "markdown",
   "metadata": {},
   "source": [
    "#### Synthesize Final Answer"
   ]
  },
  {
   "cell_type": "code",
   "execution_count": 9,
   "metadata": {},
   "outputs": [],
   "source": [
    "def synthesize_final_answer(history_agent, task: str, context: list) -> str:\n",
    "    print(\"🏛️ History Agent: Synthesizing final answer...\")\n",
    "    synthesis_task = \"Based on all the historical context, data, and analysis, provide a comprehensive answer to the original task.\"\n",
    "    final_result = history_agent.process(synthesis_task, context)\n",
    "    return final_result"
   ]
  },
  {
   "cell_type": "markdown",
   "metadata": {},
   "source": [
    "### HistoryDataCollaborationSystem Class"
   ]
  },
  {
   "cell_type": "code",
   "execution_count": 13,
   "metadata": {},
   "outputs": [],
   "source": [
    "class HistoryDataCollaborationSystem:\n",
    "    def __init__(self):\n",
    "        self.history_agent = Agent(\"Clio\", \"History Research Specialist\", [\"deep knowledge of historical events\", \"understanding of historical contexts\", \"identifying historical trends\"])\n",
    "        self.data_agent = Agent(\"Data\", \"Data Analysis Expert\", [\"interpreting numerical data\", \"statistical analysis\", \"data visualization description\"])\n",
    "\n",
    "    def solve(self, task: str, timeout: int = 300) -> str:\n",
    "        print(f\"\\n👥 Starting collaboration to solve: {task}\\n\")\n",
    "        \n",
    "        start_time = time.time()\n",
    "        context = []\n",
    "        \n",
    "        steps = [\n",
    "            (research_historical_context, self.history_agent),\n",
    "            (identify_data_needs, self.data_agent),\n",
    "            (provide_historical_data, self.history_agent),\n",
    "            (analyze_data, self.data_agent),\n",
    "            (synthesize_final_answer, self.history_agent)\n",
    "        ]\n",
    "        \n",
    "        for step_func, agent in steps:\n",
    "            if time.time() - start_time > timeout:\n",
    "                return \"Operation timed out. The process took too long to complete.\"\n",
    "            try:\n",
    "                result = step_func(agent, task, context)\n",
    "                if isinstance(result, str):\n",
    "                    return result  # This is the final answer\n",
    "                context = result\n",
    "            except Exception as e:\n",
    "                return f\"Error during collaboration: {str(e)}\"\n",
    "        \n",
    "        print(\"\\n✅ Collaboration complete. Final answer synthesized.\\n\")\n",
    "        return context[-1][\"content\"]"
   ]
  },
  {
   "cell_type": "markdown",
   "metadata": {},
   "source": [
    "### Example usage"
   ]
  },
  {
   "cell_type": "code",
   "execution_count": 14,
   "metadata": {},
   "outputs": [
    {
     "name": "stdout",
     "output_type": "stream",
     "text": [
      "\n",
      "👥 Starting collaboration to solve: How did urbanization rates in Europe compare to those in North America during the Industrial Revolution, and what were the main factors influencing these trends?\n",
      "\n",
      "🏛️ History Agent: Researching historical context...\n",
      "📜 Historical context provided: The Industrial Revolution, which began in the late 18th century and continued into the 19th century,...\n",
      "\n",
      "📊 Data Agent: Identifying data needs based on historical context...\n",
      "🔍 Data needs identified: To effectively analyze and quantify the urbanization trends during the Industrial Revolution in Euro...\n",
      "\n",
      "🏛️ History Agent: Providing relevant historical data...\n",
      "📊 Historical data provided: Certainly! Below is a compilation of relevant historical data and statistics that address the identi...\n",
      "\n",
      "📈 Data Agent: Analyzing historical data...\n",
      "💡 Data analysis results: Data Agent: Analyzing the historical data provided, we can identify several significant trends and i...\n",
      "\n",
      "🏛️ History Agent: Synthesizing final answer...\n",
      "**Comprehensive Analysis of Urbanization Rates During the Industrial Revolution in Europe and North America**\n",
      "\n",
      "### Introduction\n",
      "The Industrial Revolution, spanning from the late 18th century to the 19th century, marked a pivotal transformation in both Europe and North America. This period was characterized by a significant shift from agrarian economies to industrialized urban centers, fundamentally altering the demographic, economic, and social landscapes of both regions. This analysis examines urbanization rates, underlying factors, and comparative trends between Europe and North America during this transformative era.\n",
      "\n",
      "### Urbanization Trends\n",
      "\n",
      "#### Europe\n",
      "1. **Rate of Urbanization**:\n",
      "   - In the United Kingdom, urbanization surged dramatically, with urban populations rising from 15% in 1801 to approximately 75% by 1901. By 1851, the majority of the British population resided in urban areas, a first in history.\n",
      "   - Other European countries also experienced substantial urban growth, with cities like Paris and Berlin expanding rapidly, contributing to an overall urban population of about 40% by 1900.\n",
      "\n",
      "2. **Factors Influencing Urbanization**:\n",
      "   - **Industrialization**: The establishment of factories and the growth of the textile industry created a surge in job opportunities, drawing rural inhabitants into cities.\n",
      "   - **Transportation Improvements**: The expansion of railways and steamships significantly enhanced connectivity, facilitating the movement of goods and labor.\n",
      "   - **Agricultural Innovations**: Advances in agriculture led to increased productivity and a surplus labor force, prompting migration to urban areas.\n",
      "   - **Social Aspirations**: The allure of better living standards in cities attracted individuals despite the often harsh urban living conditions.\n",
      "\n",
      "#### North America\n",
      "1. **Rate of Urbanization**:\n",
      "   - In contrast to Europe, North America began with a lower urbanization rate, with only about 6% of the U.S. population living in urban areas in 1800. However, this figure grew to approximately 40% by 1900, reflecting rapid urban growth, particularly post-Civil War.\n",
      "   - Cities such as New York, Chicago, and Philadelphia became significant urban centers, with New York’s population increasing from about 60,000 in 1800 to over 3.4 million by 1900.\n",
      "\n",
      "2. **Factors Influencing Urbanization**:\n",
      "   - **Economic Opportunities**: The post-Civil War industrial boom attracted many immigrants and rural residents seeking work in burgeoning factories.\n",
      "   - **Immigration**: A significant influx of European immigrants, particularly from Ireland and Germany, fueled urban population growth and diversity.\n",
      "   - **Transportation Networks**: The expansion of railroads and urban transit systems allowed for easier movement to and within cities, promoting urban growth.\n",
      "   - **Westward Expansion**: The development of new urban centers around resource extraction and agricultural hubs further contributed to urbanization patterns.\n",
      "\n",
      "### Comparative Analysis\n",
      "\n",
      "- **Overall Urbanization Rates**: Europe, particularly the United Kingdom, experienced an earlier and faster urbanization process compared to North America, which saw gradual growth influenced by immigration and economic expansion.\n",
      "- **Living Conditions**: Both regions faced challenges related to urbanization, including overcrowding, poor sanitation, and public health issues. However, European cities often faced more severe conditions due to the rapid pace of urban growth.\n",
      "- **Economic Disparities**: Economic opportunities in urban areas led to higher average incomes compared to rural areas, with urban incomes in the U.S. around $200 versus $150 in rural areas by 1900. In Britain, urban workers earned approximately 20% more than their rural counterparts.\n",
      "\n",
      "### Health and Social Implications\n",
      "Urbanization brought significant health challenges, including higher mortality rates in cities due to diseases like cholera and typhoid. In London, mortality rates were about 25% higher than in rural areas, with life expectancy in urban settings averaging around 30 years by 1900. The prevalence of overcrowded tenement housing in cities like New York highlighted the social struggles of urban residents, with reports indicating high poverty rates.\n",
      "\n",
      "### Conclusion\n",
      "The Industrial Revolution catalyzed profound urbanization in both Europe and North America, characterized by demographic shifts, economic growth, and social transformation. While Europe led the way in rapid urban growth, North America followed closely, driven by immigration and industrial expansion. Both regions experienced significant challenges related to urban living conditions, public health, and social inequality.\n",
      "\n",
      "Understanding these trends not only sheds light on the historical context of urbanization but also provides critical insights into the ongoing evolution of modern urban centers and the socio-economic issues that continue to shape urban life today. This comprehensive analysis underscores the interconnectedness of industrialization and urbanization, highlighting their lasting impact on contemporary society.\n"
     ]
    }
   ],
   "source": [
    "# Create an instance of the collaboration system\n",
    "collaboration_system = HistoryDataCollaborationSystem()\n",
    "\n",
    "# Define a complex historical question that requires both historical knowledge and data analysis\n",
    "question = \"How did urbanization rates in Europe compare to those in North America during the Industrial Revolution, and what were the main factors influencing these trends?\"\n",
    "\n",
    "# Solve the question using the collaboration system\n",
    "result = collaboration_system.solve(question)\n",
    "\n",
    "# Print the result\n",
    "print(result)"
   ]
  },
  {
   "cell_type": "code",
   "execution_count": null,
   "metadata": {},
   "outputs": [],
   "source": []
  }
 ],
 "metadata": {
  "kernelspec": {
   "display_name": "genv",
   "language": "python",
   "name": "python3"
  },
  "language_info": {
   "codemirror_mode": {
    "name": "ipython",
    "version": 3
   },
   "file_extension": ".py",
   "mimetype": "text/x-python",
   "name": "python",
   "nbconvert_exporter": "python",
   "pygments_lexer": "ipython3",
   "version": "3.10.7"
  }
 },
 "nbformat": 4,
 "nbformat_minor": 2
}
