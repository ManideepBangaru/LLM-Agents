{
 "cells": [
  {
   "cell_type": "markdown",
   "metadata": {},
   "source": [
    "# Self-Improving Agent Tutorial\n",
    "\n",
    "## Overview\n",
    "Here is the implementation of a Self-Improving Agent using LangChain, a framework for developing applications powered by language models. The agent is designed to engage in conversations, learn from its interactions, and continuously improve its performance over time.\n",
    "\n",
    "## Motivation\n",
    "As AI systems become more integrated into our daily lives, there's a growing need for agents that can adapt and improve based on their interactions. This self-improving agent serves as a practical example of how we can create AI systems that don't just rely on their initial training, but continue to evolve and enhance their capabilities through ongoing interactions.\n",
    "\n",
    "## Key Components\n",
    "\n",
    "1. **Language Model**: The core of the agent, responsible for generating responses and processing information.\n",
    "2. **Chat History Management**: Keeps track of conversations for context and learning.\n",
    "3. **Response Generation**: Produces relevant replies to user inputs.\n",
    "4. **Reflection Mechanism**: Analyzes past interactions to identify areas for improvement.\n",
    "5. **Learning System**: Incorporates insights from reflection to enhance future performance.\n",
    "\n",
    "## Method Details\n",
    "\n",
    "### Initialization\n",
    "The agent is initialized with a language model, a conversation store, and a system for managing prompts and chains. This setup allows the agent to maintain context across multiple interactions and sessions.\n",
    "\n",
    "### Response Generation\n",
    "When the agent receives input, it considers the current conversation history and any recent insights gained from learning. This context-aware approach allows for more coherent and improving responses over time.\n",
    "\n",
    "### Reflection Process\n",
    "After a series of interactions, the agent reflects on its performance. It analyzes the conversation history to identify patterns, potential improvements, and areas where it could have provided better responses.\n",
    "\n",
    "### Learning Mechanism\n",
    "Based on the reflections, the agent generates learning points. These are concise summaries of how it can improve, which are then incorporated into its knowledge base and decision-making process for future interactions.\n",
    "\n",
    "### Continuous Improvement Loop\n",
    "The cycle of interaction, reflection, and learning creates a feedback loop that allows the agent to continuously refine its responses and adapt to different conversation styles and topics.\n",
    "\n",
    "## Conclusion\n",
    "This Self-Improving Agent demonstrates a practical implementation of an AI system that can learn and adapt from its interactions. By combining the power of large language models with mechanisms for reflection and learning, we create an agent that not only provides responses but also improves its capabilities over time.\n",
    "\n",
    "This approach opens up exciting possibilities for creating more dynamic and adaptable AI assistants, chatbots, and other conversational AI applications. As we continue to refine these techniques, we move closer to AI systems that can truly learn and grow from their experiences, much like humans do."
   ]
  },
  {
   "cell_type": "markdown",
   "metadata": {},
   "source": [
    "## Imports and Setup\n",
    "\n",
    "First, we'll import the necessary libraries and load our environment variables."
   ]
  },
  {
   "cell_type": "code",
   "execution_count": 1,
   "metadata": {},
   "outputs": [],
   "source": [
    "from langchain_openai import ChatOpenAI\n",
    "from langchain_core.runnables.history import RunnableWithMessageHistory\n",
    "from langchain.memory import ChatMessageHistory\n",
    "from langchain_core.prompts import ChatPromptTemplate, MessagesPlaceholder"
   ]
  },
  {
   "cell_type": "markdown",
   "metadata": {},
   "source": [
    "## Helper Functions\n",
    "\n",
    "We'll define helper functions for each capability of our agent."
   ]
  },
  {
   "cell_type": "markdown",
   "metadata": {},
   "source": [
    "### Chat History Management"
   ]
  },
  {
   "cell_type": "code",
   "execution_count": 2,
   "metadata": {},
   "outputs": [],
   "source": [
    "def get_chat_history(store, session_id: str):\n",
    "    if session_id not in store:\n",
    "        store[session_id] = ChatMessageHistory()\n",
    "    return store[session_id]"
   ]
  },
  {
   "cell_type": "markdown",
   "metadata": {},
   "source": [
    "### Response Generation"
   ]
  },
  {
   "cell_type": "code",
   "execution_count": 3,
   "metadata": {},
   "outputs": [],
   "source": [
    "def generate_response(chain_with_history, human_input: str, session_id: str, insights: str):\n",
    "    response = chain_with_history.invoke(\n",
    "        {\"input\": human_input, \"insights\": insights},\n",
    "        config={\"configurable\": {\"session_id\": session_id}}\n",
    "    )\n",
    "    return response.content"
   ]
  },
  {
   "cell_type": "markdown",
   "metadata": {},
   "source": [
    "### Reflection"
   ]
  },
  {
   "cell_type": "code",
   "execution_count": 4,
   "metadata": {},
   "outputs": [],
   "source": [
    "def reflect(llm, store, session_id: str):\n",
    "    reflection_prompt = ChatPromptTemplate.from_messages([\n",
    "        (\"system\", \"Based on the following conversation history, provide insights on how to improve responses:\"),\n",
    "        MessagesPlaceholder(variable_name=\"history\"),\n",
    "        (\"human\", \"Generate insights for improvement:\")\n",
    "    ])\n",
    "    reflection_chain = reflection_prompt | llm\n",
    "    history = get_chat_history(store, session_id)\n",
    "    reflection_response = reflection_chain.invoke({\"history\": history.messages})\n",
    "    return reflection_response.content"
   ]
  },
  {
   "cell_type": "markdown",
   "metadata": {},
   "source": [
    "### Learning"
   ]
  },
  {
   "cell_type": "code",
   "execution_count": 5,
   "metadata": {},
   "outputs": [],
   "source": [
    "def learn(llm, store, session_id: str, insights: str):\n",
    "    learning_prompt = ChatPromptTemplate.from_messages([\n",
    "        (\"system\", \"Based on these insights, update the agent's knowledge and behavior:\"),\n",
    "        (\"human\", \"{insights}\"),\n",
    "        (\"human\", \"Summarize the key points to remember:\")\n",
    "    ])\n",
    "    learning_chain = learning_prompt | llm\n",
    "    learned_points = learning_chain.invoke({\"insights\": insights}).content\n",
    "    get_chat_history(store, session_id).add_ai_message(f\"[SYSTEM] Agent learned: {learned_points}\")\n",
    "    return learned_points"
   ]
  },
  {
   "cell_type": "markdown",
   "metadata": {},
   "source": [
    "## Self-Improving Agent Class\n",
    "\n",
    "Now we'll define our `SelfImprovingAgent` class that uses these functions."
   ]
  },
  {
   "cell_type": "code",
   "execution_count": 7,
   "metadata": {},
   "outputs": [],
   "source": [
    "class SelfImprovingAgent:\n",
    "    def __init__(self):\n",
    "        self.llm = ChatOpenAI(model=\"gpt-4o-mini\", max_tokens=1000, temperature=0.7)\n",
    "        self.store = {}\n",
    "        self.insights = \"\"\n",
    "        \n",
    "        self.prompt = ChatPromptTemplate.from_messages([\n",
    "            (\"system\", \"You are a self-improving AI assistant. Learn from your interactions and improve your performance over time.\"),\n",
    "            MessagesPlaceholder(variable_name=\"history\"),\n",
    "            (\"human\", \"{input}\"),\n",
    "            (\"system\", \"Recent insights for improvement: {insights}\")\n",
    "        ])\n",
    "        \n",
    "        self.chain = self.prompt | self.llm\n",
    "        self.chain_with_history = RunnableWithMessageHistory(\n",
    "            self.chain,\n",
    "            lambda session_id: get_chat_history(self.store, session_id),\n",
    "            input_messages_key=\"input\",\n",
    "            history_messages_key=\"history\"\n",
    "        )\n",
    "\n",
    "    def respond(self, human_input: str, session_id: str):\n",
    "        return generate_response(self.chain_with_history, human_input, session_id, self.insights)\n",
    "\n",
    "    def reflect(self, session_id: str):\n",
    "        self.insights = reflect(self.llm, self.store, session_id)\n",
    "        return self.insights\n",
    "\n",
    "    def learn(self, session_id: str):\n",
    "        self.reflect(session_id)\n",
    "        return learn(self.llm, self.store, session_id, self.insights)"
   ]
  },
  {
   "cell_type": "markdown",
   "metadata": {},
   "source": [
    "## Example Usage\n",
    "\n",
    "Let's create an instance of our agent and interact with it to demonstrate its self-improving capabilities."
   ]
  },
  {
   "cell_type": "code",
   "execution_count": 8,
   "metadata": {},
   "outputs": [
    {
     "name": "stdout",
     "output_type": "stream",
     "text": [
      "AI: The capital of France is Paris. If you have any more questions or need further information, feel free to ask!\n",
      "AI: Certainly! Paris has a rich and complex history that spans over two millennia. Here are some key points:\n",
      "\n",
      "1. **Ancient Beginnings**: The area now known as Paris was originally settled by a Celtic tribe called the Parisii around the 3rd century BC. The Romans conquered the city in 52 BC and named it Lutetia. It became an important city in the Roman Empire.\n",
      "\n",
      "2. **Medieval Period**: After the fall of the Roman Empire, Lutetia evolved into the medieval city of Paris. It became the capital of the Frankish Kingdom under King Clovis I in the late 5th century. The construction of Notre-Dame Cathedral began in 1163, and the city grew in importance as a religious and cultural center.\n",
      "\n",
      "3. **Renaissance and Enlightenment**: The 16th century saw Paris flourish as a center of learning and arts during the Renaissance. The 18th century brought the Enlightenment, with Paris becoming a hub for intellectual and philosophical thought.\n",
      "\n",
      "4. **French Revolution**: In 1789, the French Revolution began in Paris, leading to significant social and political upheaval. The storming of the Bastille became a symbol of the revolution, and the city played a central role in the ensuing changes to French society.\n",
      "\n",
      "5. **19th Century**: The 19th century was marked by industrialization, urban development, and the construction of iconic landmarks, such as the Eiffel Tower, which was completed in 1889 for the Exposition Universelle.\n",
      "\n",
      "6. **World Wars**: Paris was occupied by German forces during World War I and again in World War II. The city was liberated in 1944, which was a significant event in the liberation of France.\n",
      "\n",
      "7. **Modern Era**: Post-war Paris became a center of art, fashion, and culture. It has also been a focal point for various social movements and changes in the late 20th and early 21st centuries.\n",
      "\n",
      "Today, Paris is known for its historic architecture, cultural institutions, and vibrant lifestyle. It remains one of the most visited cities in the world, attracting millions of tourists each year.\n",
      "\n",
      "If you’d like to know more about a specific period or aspect of Parisian history, let me know!\n",
      "\n",
      "Reflecting and learning...\n",
      "Learned: Here are the key points to remember for improving responses:\n",
      "\n",
      "1. **Engagement and Depth**: Encourage follow-up questions and offer to explore specific topics further to create an interactive experience.\n",
      "\n",
      "2. **Use of Visual Aids or References**: Suggest maps, timelines, books, or documentaries for deeper understanding.\n",
      "\n",
      "3. **Personalization**: Tailor responses to the user's interests for relevance, such as relating Paris's history to art movements if they have that interest.\n",
      "\n",
      "4. **Brevity with Options for Expansion**: Provide concise summaries with prompts for users to delve deeper into specific topics.\n",
      "\n",
      "5. **Historical Context**: Explain the significance of events in broader historical contexts to add depth.\n",
      "\n",
      "6. **Cultural Aspects**: Include notable figures, literature, and art from different historical periods to provide a holistic view of Paris.\n",
      "\n",
      "7. **User-Friendly Language**: Use accessible language and clarify any technical terms to engage users with varying knowledge levels.\n",
      "\n",
      "8. **Historical Anecdotes**: Incorporate interesting anecdotes or lesser-known facts to make responses more captivating.\n",
      "\n",
      "By focusing on these points, responses can be more engaging, informative, and tailored to the user's interests.\n",
      "\n",
      "AI: One of the most famous landmarks in Paris is the **Eiffel Tower**. Here are some key details about it:\n",
      "\n",
      "- **Construction**: The Eiffel Tower was designed by Gustave Eiffel and was completed in 1889 as the entrance arch to the 1889 Exposition Universelle (World's Fair), held to celebrate the 100th anniversary of the French Revolution.\n",
      "\n",
      "- **Design**: Standing at about 1,083 feet (330 meters) tall, it was the tallest man-made structure in the world until the completion of the Chrysler Building in New York in 1930. Its iron lattice structure is an iconic example of 19th-century engineering.\n",
      "\n",
      "- **Cultural Significance**: The Eiffel Tower has become a global symbol of France and is one of the most recognizable structures in the world. It attracts millions of visitors each year, offering stunning views of the city from its various observation decks.\n",
      "\n",
      "- **Night Illumination**: The tower is beautifully illuminated at night, with a sparkling light show that occurs every hour on the hour after sunset, adding to its charm.\n",
      "\n",
      "Would you like to know more about a specific aspect of the Eiffel Tower or perhaps learn about another landmark in Paris?\n",
      "AI: An interesting fact about Paris is that it is home to the **Catacombs of Paris**, a fascinating and somewhat eerie underground ossuary. Here are some key points about it:\n",
      "\n",
      "- **Historical Background**: The Catacombs were established in the late 18th century due to the overcrowding of cemeteries in Paris. In 1786, bones from various graveyards were transferred to the former limestone quarries beneath the city.\n",
      "\n",
      "- **Size and Scope**: The Catacombs stretch for about 200 miles (320 kilometers) underground, although only a small portion is open to the public. They house the remains of over six million people, arranged in decorative patterns and displays.\n",
      "\n",
      "- **Cultural Significance**: The Catacombs reflect the historical attitudes towards death and burial practices in Paris. They have become a popular tourist attraction, drawing visitors interested in history, architecture, and the macabre.\n",
      "\n",
      "- **Visiting Experience**: The entrance to the Catacombs is located near the Denfert-Rochereau square, and visitors descend a spiral staircase into the cool, dimly lit tunnels, where they can explore various chambers filled with skulls and bones.\n",
      "\n",
      "Would you like to learn more about the Catacombs or perhaps explore another intriguing aspect of Paris?\n"
     ]
    }
   ],
   "source": [
    "agent = SelfImprovingAgent()\n",
    "session_id = \"user_123\"\n",
    "\n",
    "# Interaction 1\n",
    "print(\"AI:\", agent.respond(\"What's the capital of France?\", session_id))\n",
    "\n",
    "# Interaction 2\n",
    "print(\"AI:\", agent.respond(\"Can you tell me more about its history?\", session_id))\n",
    "\n",
    "# Learn and improve\n",
    "print(\"\\nReflecting and learning...\")\n",
    "learned = agent.learn(session_id)\n",
    "print(\"Learned:\", learned)\n",
    "\n",
    "# Interaction 3 (potentially improved based on learning)\n",
    "print(\"\\nAI:\", agent.respond(\"What's a famous landmark in this city?\", session_id))\n",
    "\n",
    "# Interaction 4 (to demonstrate continued improvement)\n",
    "print(\"AI:\", agent.respond(\"What's another interesting fact about this city?\", session_id))"
   ]
  }
 ],
 "metadata": {
  "kernelspec": {
   "display_name": "genv",
   "language": "python",
   "name": "python3"
  },
  "language_info": {
   "codemirror_mode": {
    "name": "ipython",
    "version": 3
   },
   "file_extension": ".py",
   "mimetype": "text/x-python",
   "name": "python",
   "nbconvert_exporter": "python",
   "pygments_lexer": "ipython3",
   "version": "3.10.7"
  }
 },
 "nbformat": 4,
 "nbformat_minor": 4
}
